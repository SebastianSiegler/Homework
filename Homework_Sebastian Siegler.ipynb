{
 "cells": [
  {
   "cell_type": "markdown",
   "metadata": {},
   "source": [
    "## Homework \n",
    "\n",
    "Unfortunately I didn't have much time this weekend and had barely enough time to work through the notebooks of the last week again and finish the remaining task within the notebooks. Furthermore a gave the very helpful cheat sheets a first look a worked through the first two chapters of the naked statistics book. I solved some tasks containing if and while loops but have to find another resource of exercises as the tasks in the book I read were not really challenging\n",
    "\n",
    "### Part 1: For Loops\n",
    "In order to get some practice using for and while loops I solved the exercises in the particular chapters of the book: Python Crash Course: A Hands-On Project Based Introduction To Programming by Eric Matthes"
   ]
  },
  {
   "cell_type": "code",
   "execution_count": 1,
   "metadata": {},
   "outputs": [
    {
     "name": "stdout",
     "output_type": "stream",
     "text": [
      "I really like Prosciutto pizza\n",
      "I really like Peperoni pizza\n",
      "I really like Quattro Stagioni pizza\n"
     ]
    }
   ],
   "source": [
    "# 4-1. Pizzas\n",
    "\n",
    "pizza_list = [\"Prosciutto\", \"Peperoni\", \"Quattro Stagioni\"]\n",
    "\n",
    "for pizza in pizza_list:\n",
    "    print(\"I really like \" + pizza + \" pizza\" )"
   ]
  },
  {
   "cell_type": "code",
   "execution_count": 2,
   "metadata": {},
   "outputs": [
    {
     "name": "stdout",
     "output_type": "stream",
     "text": [
      "horses are great animals\n",
      "dogs are great animals\n",
      "elephants are great animals\n"
     ]
    }
   ],
   "source": [
    "# 4-2. Animals\n",
    "\n",
    "animal_list = [\"Horses\", \"Dogs\", \"Elephants\"]\n",
    "\n",
    "for animal in animal_list:\n",
    "    print(animal + \" are great animals\")"
   ]
  },
  {
   "cell_type": "code",
   "execution_count": 14,
   "metadata": {},
   "outputs": [
    {
     "name": "stdout",
     "output_type": "stream",
     "text": [
      "1\n",
      "2\n",
      "3\n",
      "4\n",
      "5\n",
      "6\n",
      "7\n",
      "8\n",
      "9\n",
      "10\n",
      "11\n",
      "12\n",
      "13\n",
      "14\n",
      "15\n",
      "16\n",
      "17\n",
      "18\n",
      "19\n",
      "20\n"
     ]
    },
    {
     "data": {
      "text/plain": [
       "[1, 2, 3, 4, 5, 6, 7, 8, 9, 10, 11, 12, 13, 14, 15, 16, 17, 18, 19, 20]"
      ]
     },
     "execution_count": 14,
     "metadata": {},
     "output_type": "execute_result"
    }
   ],
   "source": [
    "# 4-3. Counting to Twenty\n",
    "\n",
    "for i in range(1,21):\n",
    "    print(i)\n",
    "    \n",
    "# using list comprehension\n",
    "\n",
    "number_list2 = [i for i in range(1,21)]\n",
    "number_list2"
   ]
  },
  {
   "cell_type": "code",
   "execution_count": 18,
   "metadata": {},
   "outputs": [
    {
     "name": "stdout",
     "output_type": "stream",
     "text": [
      "1\n",
      "1000000\n",
      "500000500000\n"
     ]
    }
   ],
   "source": [
    "# 4-5. Summing a Million\n",
    "\n",
    "number_list = [i for i in range(1,1000001)]\n",
    "print(min(number_list))\n",
    "print(max(number_list))\n",
    "print(sum(number_list))"
   ]
  },
  {
   "cell_type": "code",
   "execution_count": 19,
   "metadata": {},
   "outputs": [
    {
     "data": {
      "text/plain": [
       "[1, 4, 7, 10, 13, 16, 19]"
      ]
     },
     "execution_count": 19,
     "metadata": {},
     "output_type": "execute_result"
    }
   ],
   "source": [
    "# 4-6. Odd Numbers\n",
    "\n",
    "odd_list = [i for i in range(1,21,3)]\n",
    "odd_list"
   ]
  },
  {
   "cell_type": "code",
   "execution_count": 21,
   "metadata": {},
   "outputs": [
    {
     "data": {
      "text/plain": [
       "[3, 6, 9, 12, 15, 18, 21, 24, 27, 30]"
      ]
     },
     "execution_count": 21,
     "metadata": {},
     "output_type": "execute_result"
    }
   ],
   "source": [
    "# 4-7. Threes\n",
    "\n",
    "threes_list = [i for i in range(3,31,3)]\n",
    "threes_list"
   ]
  },
  {
   "cell_type": "code",
   "execution_count": 22,
   "metadata": {},
   "outputs": [
    {
     "data": {
      "text/plain": [
       "[1, 8, 27, 64, 125, 216, 343, 512, 729, 1000]"
      ]
     },
     "execution_count": 22,
     "metadata": {},
     "output_type": "execute_result"
    }
   ],
   "source": [
    "# 4-8. Cubes\n",
    "cube_list = [i**3 for i in range(1,11)]\n",
    "cube_list"
   ]
  },
  {
   "cell_type": "markdown",
   "metadata": {},
   "source": [
    "### Homework Part 2: While-Loops and User Input"
   ]
  },
  {
   "cell_type": "code",
   "execution_count": 24,
   "metadata": {},
   "outputs": [
    {
     "name": "stdout",
     "output_type": "stream",
     "text": [
      "Please enter the desired carPorsche\n",
      "Let me see, if we have a Porsche\n"
     ]
    }
   ],
   "source": [
    "# 7-1. Rental Car\n",
    "\n",
    "car = input (\"Please enter the desired car\")\n",
    "print(\"Let me see, if we have a \" + car )"
   ]
  },
  {
   "cell_type": "code",
   "execution_count": null,
   "metadata": {},
   "outputs": [],
   "source": [
    "# 7-2. Restaurant Seating\n",
    "\n",
    "number_of_guests = int(input(\"How many people in your dinner group? \"))\n",
    "\n",
    "if number_of_guests <=8:\n",
    "    print(\"Your table is ready\")\n",
    "else:\n",
    "    print(\"\"\"\"You'll have to wait for a table\"\"\")"
   ]
  },
  {
   "cell_type": "code",
   "execution_count": 43,
   "metadata": {},
   "outputs": [
    {
     "name": "stdout",
     "output_type": "stream",
     "text": [
      "Please enter the desired topping \n",
      " Enter quit if order is finished cheese\n",
      "cheese will be added to your pizza\n",
      "Please enter the desired topping \n",
      " Enter quit if order is finished quit\n",
      "Thank you for your order\n"
     ]
    }
   ],
   "source": [
    "# 7-4. Pizza Toppings\n",
    "\n",
    "prompt = (\"Please enter the desired topping \\n Enter quit if order is finished \")\n",
    "\n",
    "while True:\n",
    "    topping = input(prompt)\n",
    "    if topping != \"quit\":\n",
    "        print(topping + \" will be added to your pizza\")\n",
    "    else:\n",
    "        print(\"Thank you for your order\")\n",
    "        break"
   ]
  },
  {
   "cell_type": "code",
   "execution_count": 52,
   "metadata": {},
   "outputs": [
    {
     "name": "stdout",
     "output_type": "stream",
     "text": [
      "What is your age? \n",
      " Enter quit when finished2\n",
      "You don't have to pay\n",
      "What is your age? \n",
      " Enter quit when finishedquit\n"
     ]
    }
   ],
   "source": [
    "# 7-5. Movie Tickets\n",
    "\n",
    "while True:\n",
    "    age = input(\"What is your age? \\n Enter quit when finished\")\n",
    "    if age == \"quit\":\n",
    "        break\n",
    "    age = int(age)\n",
    "    if age < 3:\n",
    "        print(\"You don't have to pay\")\n",
    "    elif age < 13:\n",
    "        print(\"You have to pay 10$\")\n",
    "    else:\n",
    "        print(\"You have to pay 15$\")\n",
    "        \n",
    "\n"
   ]
  },
  {
   "cell_type": "code",
   "execution_count": null,
   "metadata": {},
   "outputs": [],
   "source": []
  }
 ],
 "metadata": {
  "kernelspec": {
   "display_name": "Python 3",
   "language": "python",
   "name": "python3"
  },
  "language_info": {
   "codemirror_mode": {
    "name": "ipython",
    "version": 3
   },
   "file_extension": ".py",
   "mimetype": "text/x-python",
   "name": "python",
   "nbconvert_exporter": "python",
   "pygments_lexer": "ipython3",
   "version": "3.7.4"
  }
 },
 "nbformat": 4,
 "nbformat_minor": 2
}
