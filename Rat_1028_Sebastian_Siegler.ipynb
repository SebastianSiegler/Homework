{
 "cells": [
  {
   "cell_type": "markdown",
   "metadata": {},
   "source": [
    "The basic idea of a linear regression is to find a line that gives the best fit for a number of points in a two dimensional system.\n",
    "The basic form looks like the following:  y = ß0 + ß1*x1 + e\n",
    "where y is the dependend variable which is to be forecasted, ß0 is the intercept and the values ß1 are the independed variables of the model which are used to predict the value of y. e are the residuals or error terms of the model.\n",
    "The best fit line is found by a the method of ordinary least squares. The aim is to minimize the squared sum of the residuals.\n",
    "Assumptions for the residuals are a constant variance, normal distribution and homoscedasticity which means that the error term should noit grow with larger value of the indepoended variable\n",
    "\n",
    "\n",
    "\n",
    "\n",
    "\n",
    "What is multiple linear regression\n",
    "\n",
    "The multiple linear regression basically follows the same methods with one difference. The number of independend variables is at least two so the model looks like the following\n",
    "\n",
    "y = ß0 + ß1*x1 + ßn * xn + e\n",
    "\n",
    "In order to check the quality of the model there are several values \n"
   ]
  }
 ],
 "metadata": {
  "kernelspec": {
   "display_name": "Python 3",
   "language": "python",
   "name": "python3"
  },
  "language_info": {
   "codemirror_mode": {
    "name": "ipython",
    "version": 3
   },
   "file_extension": ".py",
   "mimetype": "text/x-python",
   "name": "python",
   "nbconvert_exporter": "python",
   "pygments_lexer": "ipython3",
   "version": "3.7.4"
  }
 },
 "nbformat": 4,
 "nbformat_minor": 2
}
