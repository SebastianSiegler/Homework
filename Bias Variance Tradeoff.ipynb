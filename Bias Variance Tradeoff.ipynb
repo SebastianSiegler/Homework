{
 "cells": [
  {
   "cell_type": "markdown",
   "metadata": {},
   "source": [
    "## The Bias Variance Tradeoff\n",
    "\n",
    "Setting: The basic linear regression model requires that the relation between dependent and independent variable is linear. In reality there are situations where the relationship is more complex. In these cases a simple linear regression model will not be able to capture the underlying data of the model.\n",
    "\n",
    "Solution: We conduct a polynomial regression with quadratic, cubic or even higher degree curves.\n",
    "\n",
    "Problem: These higher degrees lead to a problem called overfitting. The model tries wo work so correctly that it even includes the noise or so called bias around the real relationship in its prediction of the real relationship.\n",
    "A high bias results in the the so called underfitting. The model is not able to detect patterns in the underlying real relationship and therefore performs poorly. The other extrem is caslled overfitting. The model tries to predict the underlying relationship so perfectly, that it thinks the error terms belong to the underlying real relationship between dependent and independent variable. Together with this overfitting comes higher variance of the error terms as the model tries to pass through all of the datapoints.\n",
    "\n",
    "\n",
    "The solution to that problem is the bias variance tradeoff. It is a property of all machine learning models that enforces a tradeoff between how \"flexible\" the model is and how well it performs on unseen data.\n",
    "\n",
    "There are three possible cases:\n",
    "1. An underfit with high bias and low variance\n",
    "2. A correct fit with low bias and low variance\n",
    "3. An overfit with low bias and high variance\n"
   ]
  },
  {
   "cell_type": "code",
   "execution_count": null,
   "metadata": {},
   "outputs": [],
   "source": []
  }
 ],
 "metadata": {
  "kernelspec": {
   "display_name": "Python 3",
   "language": "python",
   "name": "python3"
  }
 },
 "nbformat": 4,
 "nbformat_minor": 2
}
